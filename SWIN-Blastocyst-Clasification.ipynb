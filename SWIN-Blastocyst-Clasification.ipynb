{
 "cells": [
  {
   "cell_type": "markdown",
   "id": "6858a478",
   "metadata": {},
   "source": [
    "SWIN Transformer Blastocyst Clasification\n",
    "\n",
    "In this project we will train a SWIN Transformer Models to clasify blastocyst images, scored by Gardner’s criteria EXP, ICM, TE.\n",
    "\n",
    "For each criteria a different model is trained as they are independend from eachother.\n",
    "\n",
    "We will use the results from An annotated human blastocyst dataset to benchmark deep learning architectures for in vitro fertilization as a base line.\n"
   ]
  },
  {
   "cell_type": "markdown",
   "id": "397fa4e0",
   "metadata": {},
   "source": [
    "1. We control the randomness for more consistent training results."
   ]
  },
  {
   "cell_type": "code",
   "execution_count": 1,
   "id": "f95adc47",
   "metadata": {},
   "outputs": [
    {
     "name": "stderr",
     "output_type": "stream",
     "text": [
      "/home/kavak/Masters/DeepLearning/Blastocyst-Gardner-Grading-Project/.venv/lib/python3.12/site-packages/tqdm/auto.py:21: TqdmWarning: IProgress not found. Please update jupyter and ipywidgets. See https://ipywidgets.readthedocs.io/en/stable/user_install.html\n",
      "  from .autonotebook import tqdm as notebook_tqdm\n"
     ]
    }
   ],
   "source": [
    "import os\n",
    "import random\n",
    "from pathlib import Path\n",
    "\n",
    "import numpy as np\n",
    "import pandas as pd\n",
    "from PIL import Image\n",
    "from sklearn.utils.class_weight import compute_class_weight\n",
    "from sklearn.metrics import classification_report, confusion_matrix\n",
    "from sklearn.model_selection import train_test_split\n",
    "import matplotlib.pyplot as plt\n",
    "import torch\n",
    "import torch.nn as nn\n",
    "from torch.utils.data import DataLoader, Dataset\n",
    "from torchvision import transforms\n",
    "import timm\n",
    "from tqdm import tqdm\n",
    "from transformers import get_cosine_schedule_with_warmup\n",
    "\n",
    "def randomness_controller(mSeed):\n",
    "    # Set seed for Python's built-in random module\n",
    "    random.seed(mSeed)\n",
    "    # Set seed for NumPy\n",
    "    np.random.seed(mSeed)\n",
    "    # Set seed for PyTorch (CPU and GPU)\n",
    "    torch.manual_seed(mSeed)\n",
    "    # Set seed for GPU\n",
    "    torch.cuda.manual_seed_all(mSeed)\n",
    "    # For deterministic results(not set)\n",
    "    torch.backends.cudnn.deterministic = True\n",
    "    torch.backends.cudnn.benchmark = False\n",
    "\n",
    "SEED = 42\n",
    "randomness_controller(SEED)\n",
    "device = torch.device(\"cuda\" if torch.cuda.is_available() else \"cpu\")"
   ]
  },
  {
   "cell_type": "markdown",
   "id": "11277362",
   "metadata": {},
   "source": [
    "2. Data is loaded for each Criteria for both the train silver data set and the golden test dataset.\n",
    "Silver set is split to train and validation set.\n",
    "Label cleanup is performed in all datasets for labels outside the expected range.\n",
    "EXP From 0-4\n",
    "ICM From 0-3\n",
    "TE  From 0-3"
   ]
  },
  {
   "cell_type": "code",
   "execution_count": 2,
   "id": "6f346a7f",
   "metadata": {},
   "outputs": [
    {
     "name": "stdout",
     "output_type": "stream",
     "text": [
      "Train set\n",
      "Train size: 1941\n",
      "           Image  TE                            image_path\n",
      "523   706_01.png   0  Blastocyst_Dataset/Images/706_01.png\n",
      "1787  318_03.png   0  Blastocyst_Dataset/Images/318_03.png\n",
      "471   492_02.png   2  Blastocyst_Dataset/Images/492_02.png\n",
      "1021  529_04.png   0  Blastocyst_Dataset/Images/529_04.png\n",
      "1745  220_01.png   0  Blastocyst_Dataset/Images/220_01.png\n",
      "\n",
      "Validation set\n",
      "Validation size: 103\n",
      "            Image  TE                             image_path\n",
      "299    407_01.png   0   Blastocyst_Dataset/Images/407_01.png\n",
      "1700   320_01.png   1   Blastocyst_Dataset/Images/320_01.png\n",
      "1644   861_05.png   0   Blastocyst_Dataset/Images/861_05.png\n",
      "1781   737_01.png   3   Blastocyst_Dataset/Images/737_01.png\n",
      "1100  0143_02.png   0  Blastocyst_Dataset/Images/0143_02.png\n",
      "\n",
      "Test set\n",
      "Test size: 288\n",
      "         Image  TE                             image_path\n",
      "0  0004_03.png   1  Blastocyst_Dataset/Images/0004_03.png\n",
      "1  0005_08.png   0  Blastocyst_Dataset/Images/0005_08.png\n",
      "2  0008_01.png   0  Blastocyst_Dataset/Images/0008_01.png\n",
      "3  0011_02.png   3  Blastocyst_Dataset/Images/0011_02.png\n",
      "4  0011_03.png   0  Blastocyst_Dataset/Images/0011_03.png\n"
     ]
    }
   ],
   "source": [
    "#Hyper Parameters\n",
    "BATCH_SIZE = 16\n",
    "IMAGE_SIZE = 224\n",
    "TRAINING_CRITERIA ='TE'\n",
    "USE_SYNTHETIC_DATA = True\n",
    "\n",
    "# Blastocyst Gardner Grading Dataset Location\n",
    "train_csv_path = Path(\"Blastocyst_Dataset/Gardner_train_silver.csv\")\n",
    "test_csv_path =  Path(\"Blastocyst_Dataset/Gardner_test_gold_onlyGardnerScores.csv\")\n",
    "image_dir = Path(\"Blastocyst_Dataset/Images\")\n",
    "\n",
    "# Load Silver train data and creat dataset\n",
    "train_df = pd.read_csv(train_csv_path, delimiter=';',na_values=[\"NA\"])\n",
    "train_df['image_path'] = train_df['Image'].apply(lambda x: image_dir / x)\n",
    "train_df = train_df.rename(columns={\n",
    "    'EXP_silver': 'EXP',\n",
    "    'ICM_silver': 'ICM',\n",
    "    'TE_silver': 'TE'\n",
    "})\n",
    "\n",
    "\n",
    "\n",
    "# Load Golden train data and creat dataset\n",
    "test_df = pd.read_csv(test_csv_path, delimiter=';',na_values=[\"NA\"])\n",
    "test_df['image_path'] = test_df['Image'].apply(lambda x: image_dir / x)\n",
    "test_df = test_df.drop(columns=['Unnamed: 4'])# drop empty column \n",
    "test_df = test_df.rename(columns={\n",
    "    'EXP_gold': 'EXP',\n",
    "    'ICM_gold': 'ICM',\n",
    "    'TE_gold': 'TE'\n",
    "})\n",
    "\n",
    "\n",
    "if(TRAINING_CRITERIA == 'EXP'):\n",
    "    train_df = train_df.drop(columns=['ICM'])\n",
    "    train_df = train_df.drop(columns=['TE'])\n",
    "    test_df = test_df.drop(columns=['ICM'])\n",
    "    test_df = test_df.drop(columns=['TE'])\n",
    "    test_df.replace(\"ND\", np.nan, inplace=True)\n",
    "    test_df.dropna(inplace=True)\n",
    "    test_df['EXP'] = test_df['EXP'].astype(int)\n",
    "elif(TRAINING_CRITERIA == 'ICM'):\n",
    "    train_df = train_df.drop(columns=['EXP'])\n",
    "    train_df = train_df.drop(columns=['TE'])\n",
    "    test_df = test_df.drop(columns=['EXP'])\n",
    "    test_df = test_df.drop(columns=['TE'])\n",
    "    test_df.replace(\"ND\", 3, inplace=True)\n",
    "    test_df.dropna(inplace=True)\n",
    "    test_df['ICM'] = test_df['ICM'].astype(int)\n",
    "else:\n",
    "    train_df = train_df.drop(columns=['EXP'])\n",
    "    train_df = train_df.drop(columns=['ICM'])\n",
    "    test_df = test_df.drop(columns=['EXP'])\n",
    "    test_df = test_df.drop(columns=['ICM'])\n",
    "    test_df.replace(\"ND\", 3, inplace=True)\n",
    "    test_df.dropna(inplace=True)\n",
    "    test_df['TE'] = test_df['TE'].astype(int)\n",
    "\n",
    "\n",
    "\n",
    "train_df, val_df = train_test_split(\n",
    "    train_df,\n",
    "    test_size=0.05,             \n",
    "    random_state=SEED,\n",
    "    stratify=train_df[TRAINING_CRITERIA] \n",
    ")\n",
    "print(\"Train set\")\n",
    "print(f\"Train size: {len(train_df)}\")\n",
    "print(train_df.head())\n",
    "\n",
    "print(\"\\nValidation set\")\n",
    "print(f\"Validation size: {len(val_df)}\")\n",
    "print(val_df.head())\n",
    "\n",
    "print(\"\\nTest set\")\n",
    "print(f\"Test size: {len(test_df)}\")\n",
    "print(test_df.head())\n",
    "\n"
   ]
  },
  {
   "cell_type": "markdown",
   "id": "5aeb494c",
   "metadata": {},
   "source": [
    "3. Use a custome image dataset loader to corolate the labels with the image location.\n",
    "Use transform functions that perform Normalization in all 3 sets and data ogmentation in the train set.\n",
    "Create the Dataset Dataloader"
   ]
  },
  {
   "cell_type": "code",
   "execution_count": 3,
   "id": "f513f624",
   "metadata": {},
   "outputs": [
    {
     "name": "stdout",
     "output_type": "stream",
     "text": [
      "Train set\n",
      "Train size: 5941\n",
      "        Image  TE                            image_path\n",
      "0  706_01.png   0  Blastocyst_Dataset/Images/706_01.png\n",
      "1  318_03.png   0  Blastocyst_Dataset/Images/318_03.png\n",
      "2  492_02.png   2  Blastocyst_Dataset/Images/492_02.png\n",
      "3  529_04.png   0  Blastocyst_Dataset/Images/529_04.png\n",
      "4  220_01.png   0  Blastocyst_Dataset/Images/220_01.png\n"
     ]
    }
   ],
   "source": [
    "synthetic_folder = \"Synthetic_GAN/\"\n",
    "if(USE_SYNTHETIC_DATA):\n",
    "    rows = []\n",
    "    synthetic_criteria_folder = os.path.join(synthetic_folder, TRAINING_CRITERIA)\n",
    "    for label in range(len(os.listdir(synthetic_criteria_folder))):\n",
    "        synthetic_criteria_label_folder = os.path.join(synthetic_criteria_folder, str(label))\n",
    "        for image in os.listdir(synthetic_criteria_label_folder):\n",
    "            new_image = {\"Image\": image, TRAINING_CRITERIA: label,\"image_path\":os.path.join(synthetic_criteria_label_folder, image)}\n",
    "            rows.append(new_image)\n",
    "    new_df = pd.DataFrame(rows)\n",
    "    train_df = pd.concat([train_df, new_df], ignore_index=True)\n",
    "\n",
    "print(\"Train set\")\n",
    "print(f\"Train size: {len(train_df)}\")\n",
    "print(train_df.head())\n",
    "\n",
    "\n"
   ]
  },
  {
   "cell_type": "code",
   "execution_count": null,
   "id": "7656b9cb",
   "metadata": {},
   "outputs": [],
   "source": [
    "# Load Custome Image Dataset connecting \n",
    "class CustomImageDataset(Dataset):\n",
    "    def __init__(self, df, label_col=TRAINING_CRITERIA, transform=None):\n",
    "        self.df = df.reset_index(drop=True)\n",
    "        self.label_col = label_col\n",
    "        self.transform = transform\n",
    "\n",
    "    def __len__(self):\n",
    "        return len(self.df)\n",
    "\n",
    "    def __getitem__(self, idx):\n",
    "        img_path = self.df.loc[idx, 'image_path']\n",
    "        label = self.df.loc[idx, self.label_col]\n",
    "        try:\n",
    "            image = Image.open(img_path).convert(\"RGB\")\n",
    "        except Exception as e:\n",
    "            print(f\"Error loading image {img_path}: {e}\")\n",
    "            return None, None\n",
    "        \n",
    "        if self.transform:\n",
    "            image = self.transform(image)\n",
    "        \n",
    "        return image, label\n",
    "\n",
    "#Workers random Seeding    \n",
    "def worker_init_fn(worker_id):\n",
    "    seed = SEED + worker_id  \n",
    "    np.random.seed(seed)\n",
    "    random.seed(seed)\n",
    "\n",
    "train_transforms = transforms.Compose([\n",
    "    transforms.Resize((IMAGE_SIZE, IMAGE_SIZE)),\n",
    "    transforms.ToTensor(),\n",
    "    transforms.Normalize(mean=[0.485, 0.456, 0.406],\n",
    "                         std=[0.229, 0.224, 0.225]),\n",
    "])\n",
    "    \n",
    "val_transforms = transforms.Compose([\n",
    "    transforms.Resize((IMAGE_SIZE, IMAGE_SIZE)),\n",
    "    transforms.ToTensor(),\n",
    "    transforms.Normalize(mean=[0.485, 0.456, 0.406],\n",
    "                         std=[0.229, 0.224, 0.225]),\n",
    "])\n",
    "import kornia.augmentation as K\n",
    " \n",
    "aug_transform = K.AugmentationSequential(\n",
    "    K.RandomHorizontalFlip(p=0.5),\n",
    "    K.RandomVerticalFlip(p=0.5),\n",
    "    K.RandomRotation(degrees=180, p=0.2, resample='bilinear', align_corners=False),\n",
    "    K.RandomAffine(degrees=0, translate=(0.06,0.06)),\n",
    "    data_keys=[\"input\"]\n",
    ").to(device)\n",
    "\n",
    "# Create Train and validation Dataset using transform\n",
    "train_dataset = CustomImageDataset(train_df, transform=train_transforms,label_col=TRAINING_CRITERIA)\n",
    "val_dataset = CustomImageDataset(val_df, transform=val_transforms, label_col=TRAINING_CRITERIA)\n",
    "\n",
    "test_dataset = CustomImageDataset(test_df, transform=val_transforms,label_col=TRAINING_CRITERIA)\n",
    "\n",
    "# Create Dataloaders \n",
    "train_loader = DataLoader(train_dataset, batch_size=BATCH_SIZE, shuffle=True, worker_init_fn = worker_init_fn,num_workers=6,prefetch_factor=2,pin_memory=True)\n",
    "val_loader = DataLoader(val_dataset, batch_size=BATCH_SIZE, shuffle=False, worker_init_fn=worker_init_fn, num_workers=6, prefetch_factor=2, pin_memory=True)\n",
    "test_loader = DataLoader(test_dataset, batch_size=BATCH_SIZE, shuffle=False,worker_init_fn = worker_init_fn,num_workers=6,prefetch_factor=2,pin_memory=True)"
   ]
  },
  {
   "cell_type": "markdown",
   "id": "bd50c6f5",
   "metadata": {},
   "source": [
    "4. Model class for model training and testing.\n",
    "\n",
    "Model virables:\n",
    "    Model_name,\n",
    "    Pretrained or not pretrained,\n",
    "    Use class weights or not,\n",
    "    Drop rate,\n",
    "    Freez level\n",
    "Train virables:\n",
    "    Number of Epochs,\n",
    "    Weight decay,\n",
    "    Warmup,\n",
    "    Patience\n",
    "\n",
    "Loss function used CrossEntropyLoss. \n",
    "Optimiser used AdamW."
   ]
  },
  {
   "cell_type": "code",
   "execution_count": null,
   "id": "0e02cc68",
   "metadata": {},
   "outputs": [],
   "source": [
    "\n",
    "class ClassificationModel:\n",
    "    def __init__(self, model_name, train_df, train_loader, val_loader,test_loader, label_name = TRAINING_CRITERIA, pretrained=True, use_class_weights = False,drop_path_rate = 0.2, device='cuda',freeze_level = None):\n",
    "        self.model_name = model_name\n",
    "        self.train_df = train_df\n",
    "        self.train_loader = train_loader\n",
    "        self.val_loader = val_loader \n",
    "        self.test_loader = test_loader\n",
    "        self.pretrained = pretrained\n",
    "        self.device = device\n",
    "        self.label_name = label_name\n",
    "        self.drop_path_rate = drop_path_rate\n",
    "        self.freeze_level = freeze_level\n",
    "        self.model = self.create_model()\n",
    "        self.use_class_weights = use_class_weights\n",
    "        self.class_weights = self.get_class_weights()\n",
    "    \n",
    "    def create_model(self):\n",
    "        num_classes = len(self.train_df[self.label_name].unique())\n",
    "        model = timm.create_model(self.model_name, pretrained=self.pretrained, num_classes=num_classes,drop_path_rate = self.drop_path_rate)\n",
    "        if self.freeze_level:\n",
    "            print(self.freeze_level)\n",
    "            for name, param in model.named_parameters():\n",
    "                if self.freeze_level == 'head':\n",
    "                    # Freeze everything except classifier head\n",
    "                    if 'head' not in name:\n",
    "                        param.requires_grad = False\n",
    "                elif self.freeze_level == 'early':\n",
    "                    # Freeze embedding and early transformer layers (for Swin)\n",
    "                    if 'patch_embed' in name or 'layers.0' in name:\n",
    "                        param.requires_grad = False\n",
    "                elif self.freeze_level == 'all':\n",
    "                    # Freeze everything\n",
    "                    param.requires_grad = False\n",
    "        model.to(self.device)\n",
    "        return model\n",
    "\n",
    "    def get_class_weights(self):\n",
    "        all_labels = self.train_df[self.label_name].values\n",
    "        class_weights = compute_class_weight('balanced', classes=np.unique(all_labels), y=all_labels)\n",
    "        print(class_weights)\n",
    "        return torch.tensor(class_weights, dtype=torch.float)\n",
    "    \n",
    "    def train(self, num_epochs=10, lr=1e-5,weight_decay = 0.01, patience = 3, warmup = 0.1):\n",
    "        \n",
    "        # Initialize loss function (optionally with class weights)\n",
    "        if self.use_class_weights:\n",
    "            criterion = nn.CrossEntropyLoss(weight=self.class_weights.to(self.device))\n",
    "        else:\n",
    "            criterion = nn.CrossEntropyLoss()\n",
    "        optimizer = torch.optim.AdamW(self.model.parameters(), lr=lr, weight_decay = weight_decay)\n",
    "\n",
    "        # Set up cosine learning rate scheduler with warmup\n",
    "        num_training_steps = len(self.train_loader) * num_epochs\n",
    "        num_warmup_steps = int(warmup * num_training_steps)\n",
    "        scheduler = get_cosine_schedule_with_warmup(\n",
    "            optimizer,\n",
    "            num_warmup_steps=num_warmup_steps,\n",
    "            num_training_steps=num_training_steps,\n",
    "        )\n",
    "        \n",
    "        #For early stopping\n",
    "        early_stop_counter = 0\n",
    "        best_val_loss = float('inf')\n",
    "        best_val_accuracy = 0.0\n",
    "        best_model_path = None \n",
    "\n",
    "\n",
    "        # Lists to store the history\n",
    "        train_losses = []\n",
    "        val_losses = []\n",
    "        train_accuracies = []\n",
    "        val_accuracies = []\n",
    "        learning_rates = []\n",
    "\n",
    "        for epoch in range(num_epochs):\n",
    "            self.model.train()\n",
    "            running_loss = 0.0\n",
    "            correct = 0\n",
    "            total = 0\n",
    "            with tqdm(self.train_loader, desc=f\"Epoch {epoch+1}/{num_epochs}\",disable=False) as pbar:\n",
    "               for batch_idx, (images, labels) in enumerate(pbar):\n",
    "                    \n",
    "                    images, labels = images.to(self.device), labels.to(self.device)\n",
    "                    optimizer.zero_grad()\n",
    "\n",
    "                    with torch.no_grad():\n",
    "                        images = aug_transform(images)\n",
    "\n",
    "                    # Forward pass\n",
    "                    outputs = self.model(images)\n",
    "                    loss = criterion(outputs, labels)\n",
    "\n",
    "                    # Scale the loss and perform backpropagation\n",
    "                    loss.backward()\n",
    "                    optimizer.step()\n",
    "                    scheduler.step()\n",
    "\n",
    "                    running_loss += loss.item()\n",
    "                    # Compute accuracy for this batch\n",
    "                    _, predicted = torch.max(outputs, 1)\n",
    "                    total += labels.size(0)\n",
    "                    correct += (predicted == labels).sum().item()\n",
    "                    # Update the progress bar\n",
    "                    accuracy = 100 * correct / total\n",
    "                    pbar.set_postfix(loss=running_loss / (batch_idx + 1), accuracy=accuracy)\n",
    "\n",
    "            # Compute average train epoch loss\n",
    "            train_loss = running_loss / len(self.train_loader)\n",
    "            train_accuracy = 100 * correct / total\n",
    "            print(f\"Epoch [{epoch+1}/{num_epochs}], Loss: {train_loss:.4f}, Accuracy: {train_accuracy:.2f}%\")\n",
    "\n",
    "            # Validate Model For early stopping\n",
    "            self.model.eval()\n",
    "            val_loss = 0.0\n",
    "            correct = 0\n",
    "            total = 0\n",
    "\n",
    "            with torch.no_grad():\n",
    "                for inputs, targets in self.val_loader:\n",
    "                    inputs, targets = inputs.to(self.device), targets.to(self.device)\n",
    "                    outputs = self.model(inputs)\n",
    "                    loss = criterion(outputs, targets)\n",
    "                    val_loss += loss.item() \n",
    "\n",
    "                    _, predicted = outputs.max(1)\n",
    "                    total += targets.size(0)\n",
    "                    correct += predicted.eq(targets).sum().item()\n",
    "            \n",
    "            # Compute average validation epoch loss\n",
    "            val_loss /= len(self.val_loader)\n",
    "            val_accuracy = 100 * correct / total\n",
    "\n",
    "            current_lr = optimizer.param_groups[0]['lr']\n",
    "            learning_rates.append(current_lr)\n",
    "\n",
    "            # Store the results for plotting\n",
    "            train_losses.append(train_loss)\n",
    "            val_losses.append(val_loss)\n",
    "            train_accuracies.append(train_accuracy)\n",
    "            val_accuracies.append(val_accuracy)\n",
    "\n",
    "            print(f\"Epoch {epoch+1}/{num_epochs} - \"\n",
    "            f\"Train Loss: {train_loss:.4f}, Train Acc: {train_accuracy:.2f}% | \"\n",
    "            f\"Val Loss: {val_loss:.4f}, Val Acc: {val_accuracy:.2f}% | \"\n",
    "            f\"LR: {current_lr:.6f}\")\n",
    "\n",
    "            # Save Most Accurate Model\n",
    "            if(USE_SYNTHETIC_DATA):\n",
    "                folder_name = \"Synthetic/\"+self.label_name\n",
    "            else:\n",
    "                folder_name = \"Real/\"+self.label_name\n",
    "            os.makedirs(folder_name, exist_ok=True)\n",
    "            model_filename = f'best_model_acc_{val_accuracy:.4f}.pth'\n",
    "            model_path = os.path.join(folder_name, model_filename)\n",
    "            \n",
    "            if val_accuracy >= best_val_accuracy:\n",
    "\n",
    "                if best_model_path and os.path.exists(best_model_path):\n",
    "                    os.remove(best_model_path)\n",
    "\n",
    "                best_model_path = model_path\n",
    "                best_val_accuracy = val_accuracy\n",
    "                torch.save({\n",
    "                    'model_state_dict': self.model.state_dict(),\n",
    "                    'optimizer_state_dict': optimizer.state_dict(),\n",
    "                    'epoch': epoch,\n",
    "                    'best_val_accuracy': best_val_accuracy\n",
    "                }, best_model_path)\n",
    "                \n",
    "                print(f\"New best model saved as {model_filename}.\")\n",
    "\n",
    "            delta = 1e-4\n",
    "            num_epochs_completed = epoch + 1\n",
    "            # --- Early Stopping ---\n",
    "            if val_loss < best_val_loss - delta:\n",
    "                best_val_loss = val_loss\n",
    "                early_stop_counter = 0\n",
    "            else:\n",
    "                early_stop_counter += 1\n",
    "                print(f\"No improvement. Early stop counter: {early_stop_counter}/{patience}\")\n",
    "            if early_stop_counter >= patience:\n",
    "                print(\"Early stopping triggered.\")\n",
    "                break\n",
    "\n",
    "\n",
    "        # Plot training and validation loss over epochs\n",
    "        plt.figure(figsize=(18, 5))\n",
    "\n",
    "        # Plotting loss\n",
    "        plt.subplot(1, 3, 1)\n",
    "        plt.plot(range(1, num_epochs_completed + 1), train_losses, label='Training Loss')\n",
    "        plt.plot(range(1, num_epochs_completed + 1), val_losses, label='Validation Loss')\n",
    "        plt.xlabel('Epochs')\n",
    "        plt.ylabel('Loss')\n",
    "        plt.title('Training and Validation Loss')\n",
    "        plt.legend()\n",
    "\n",
    "        # Plotting accuracy\n",
    "        plt.subplot(1, 3, 2)\n",
    "        plt.plot(range(1, num_epochs_completed + 1), train_accuracies, label='Training Accuracy')\n",
    "        plt.plot(range(1, num_epochs_completed + 1), val_accuracies, label='Validation Accuracy')\n",
    "        plt.xlabel('Epochs')\n",
    "        plt.ylabel('Accuracy')\n",
    "        plt.title('Training and Validation Accuracy')\n",
    "        plt.legend()\n",
    "\n",
    "        # Learning Rate\n",
    "        plt.subplot(1, 3, 3)\n",
    "        plt.plot(learning_rates[:num_epochs_completed], label='LR', color='green')\n",
    "        plt.title('Learning Rate')\n",
    "        plt.xlabel('Epoch')\n",
    "        plt.ylabel('LR')\n",
    "        plt.legend()\n",
    "\n",
    "        # Show the plot\n",
    "        plt.tight_layout()\n",
    "        plt.show()\n",
    "        \n",
    "        checkpoint = torch.load(best_model_path)\n",
    "        self.model.load_state_dict(checkpoint['model_state_dict']) \n",
    "        test_acc = self.test()\n",
    "        model_path = os.path.join(folder_name, f'{TRAINING_CRITERIA}_acc_{test_acc}.pth')\n",
    "        os.rename(best_model_path,model_path)\n",
    "        return model_path\n",
    "\n",
    "    def test(self):\n",
    "        self.model.eval()\n",
    "        test_loss = 0.0\n",
    "        correct = 0\n",
    "        total = 0\n",
    "        if self.use_class_weights:\n",
    "            criterion = nn.CrossEntropyLoss(weight=self.class_weights.to(self.device))\n",
    "        else:\n",
    "            criterion = nn.CrossEntropyLoss()\n",
    "            \n",
    "\n",
    "        all_labels = []\n",
    "        all_preds = []\n",
    "        with torch.no_grad():\n",
    "            for inputs, labels in self.test_loader:  \n",
    "                inputs, labels = inputs.to(self.device), labels.to(self.device)\n",
    "\n",
    "                outputs = self.model(inputs)\n",
    "                loss = criterion(outputs, labels)\n",
    "                test_loss += loss.item() * inputs.size(0)\n",
    "\n",
    "                _, preds = torch.max(outputs, 1)\n",
    "                total += outputs.size(0)\n",
    "                correct += preds.eq(labels).sum().item()\n",
    "                all_labels.append(labels.cpu().numpy())\n",
    "                all_preds.append(preds.cpu().numpy())\n",
    "\n",
    "        all_labels = np.concatenate(all_labels)\n",
    "        all_preds = np.concatenate(all_preds)\n",
    "\n",
    "        avg_loss = test_loss / len(self.test_loader.dataset)\n",
    "        accuracy = 100 * correct / total\n",
    "        print(f\"\\nValidation Results — Loss: {avg_loss:.4f}, Accuracy: {accuracy:.2f}%\")\n",
    "        \n",
    "        print(\"Classification Report:\")\n",
    "        print(classification_report(all_labels, all_preds))\n",
    "\n",
    "        print(\"Confusion Matrix:\")\n",
    "        print(confusion_matrix(all_labels, all_preds))\n",
    "\n",
    "        return accuracy"
   ]
  },
  {
   "cell_type": "markdown",
   "id": "6c27fa4b",
   "metadata": {},
   "source": [
    "6. List of Models to be tested."
   ]
  },
  {
   "cell_type": "code",
   "execution_count": 6,
   "id": "cd113040",
   "metadata": {},
   "outputs": [],
   "source": [
    "model_configs = [\n",
    "    ('swin_base_patch4_window7_224_pretrained', {\n",
    "        'model_name': 'swin_base_patch4_window7_224',\n",
    "        'pretrained': True,\n",
    "        'use_class_weights': True,\n",
    "        'num_epochs': 60,\n",
    "        'lr':  3e-4,\n",
    "        'weight_decay': 1e-4,\n",
    "        'patience': 10,\n",
    "        'warmup': 0.2,\n",
    "        'droprate':0.7,\n",
    "        'freez': None\n",
    "    })\n",
    "]"
   ]
  },
  {
   "cell_type": "markdown",
   "id": "5cf1bf1a",
   "metadata": {},
   "source": [
    "7. Model test loop"
   ]
  },
  {
   "cell_type": "code",
   "execution_count": null,
   "id": "99766ebc",
   "metadata": {},
   "outputs": [
    {
     "name": "stdout",
     "output_type": "stream",
     "text": [
      "[0.73309477 0.99082722 1.42129187 1.08333333]\n"
     ]
    },
    {
     "name": "stderr",
     "output_type": "stream",
     "text": [
      "Epoch 1/60: 100%|██████████| 372/372 [03:51<00:00,  1.60it/s, accuracy=39.6, loss=1.27]"
     ]
    },
    {
     "name": "stdout",
     "output_type": "stream",
     "text": [
      "Epoch [1/60], Loss: 1.2671, Accuracy: 39.56%\n"
     ]
    },
    {
     "name": "stderr",
     "output_type": "stream",
     "text": [
      "\n"
     ]
    },
    {
     "name": "stdout",
     "output_type": "stream",
     "text": [
      "Epoch 1/60 - Train Loss: 1.2671, Train Acc: 39.56% | Val Loss: 0.9287, Val Acc: 65.05% | LR: 0.000025\n",
      "New best model saved as best_model_acc_65.0485.pth.\n"
     ]
    },
    {
     "name": "stderr",
     "output_type": "stream",
     "text": [
      "Epoch 2/60: 100%|██████████| 372/372 [03:51<00:00,  1.60it/s, accuracy=74.8, loss=0.6]  "
     ]
    },
    {
     "name": "stdout",
     "output_type": "stream",
     "text": [
      "Epoch [2/60], Loss: 0.6003, Accuracy: 74.77%\n"
     ]
    },
    {
     "name": "stderr",
     "output_type": "stream",
     "text": [
      "\n"
     ]
    },
    {
     "name": "stdout",
     "output_type": "stream",
     "text": [
      "Epoch 2/60 - Train Loss: 0.6003, Train Acc: 74.77% | Val Loss: 0.8076, Val Acc: 63.11% | LR: 0.000050\n"
     ]
    },
    {
     "name": "stderr",
     "output_type": "stream",
     "text": [
      "Epoch 3/60: 100%|██████████| 372/372 [03:56<00:00,  1.58it/s, accuracy=83.2, loss=0.391]"
     ]
    },
    {
     "name": "stdout",
     "output_type": "stream",
     "text": [
      "Epoch [3/60], Loss: 0.3910, Accuracy: 83.17%\n"
     ]
    },
    {
     "name": "stderr",
     "output_type": "stream",
     "text": [
      "\n"
     ]
    },
    {
     "name": "stdout",
     "output_type": "stream",
     "text": [
      "Epoch 3/60 - Train Loss: 0.3910, Train Acc: 83.17% | Val Loss: 0.7138, Val Acc: 72.82% | LR: 0.000075\n",
      "New best model saved as best_model_acc_72.8155.pth.\n"
     ]
    },
    {
     "name": "stderr",
     "output_type": "stream",
     "text": [
      "Epoch 4/60: 100%|██████████| 372/372 [03:56<00:00,  1.57it/s, accuracy=85.5, loss=0.336]"
     ]
    },
    {
     "name": "stdout",
     "output_type": "stream",
     "text": [
      "Epoch [4/60], Loss: 0.3363, Accuracy: 85.49%\n"
     ]
    },
    {
     "name": "stderr",
     "output_type": "stream",
     "text": [
      "\n"
     ]
    },
    {
     "name": "stdout",
     "output_type": "stream",
     "text": [
      "Epoch 4/60 - Train Loss: 0.3363, Train Acc: 85.49% | Val Loss: 0.6779, Val Acc: 68.93% | LR: 0.000100\n"
     ]
    },
    {
     "name": "stderr",
     "output_type": "stream",
     "text": [
      "Epoch 5/60: 100%|██████████| 372/372 [03:59<00:00,  1.55it/s, accuracy=87.5, loss=0.3]  "
     ]
    },
    {
     "name": "stdout",
     "output_type": "stream",
     "text": [
      "Epoch [5/60], Loss: 0.3005, Accuracy: 87.51%\n"
     ]
    },
    {
     "name": "stderr",
     "output_type": "stream",
     "text": [
      "\n"
     ]
    },
    {
     "name": "stdout",
     "output_type": "stream",
     "text": [
      "Epoch 5/60 - Train Loss: 0.3005, Train Acc: 87.51% | Val Loss: 0.6523, Val Acc: 72.82% | LR: 0.000125\n",
      "New best model saved as best_model_acc_72.8155.pth.\n"
     ]
    },
    {
     "name": "stderr",
     "output_type": "stream",
     "text": [
      "Epoch 6/60: 100%|██████████| 372/372 [03:58<00:00,  1.56it/s, accuracy=87.3, loss=0.3]  "
     ]
    },
    {
     "name": "stdout",
     "output_type": "stream",
     "text": [
      "Epoch [6/60], Loss: 0.2995, Accuracy: 87.33%\n"
     ]
    },
    {
     "name": "stderr",
     "output_type": "stream",
     "text": [
      "\n"
     ]
    },
    {
     "name": "stdout",
     "output_type": "stream",
     "text": [
      "Epoch 6/60 - Train Loss: 0.2995, Train Acc: 87.33% | Val Loss: 0.6653, Val Acc: 74.76% | LR: 0.000150\n",
      "New best model saved as best_model_acc_74.7573.pth.\n",
      "No improvement. Early stop counter: 1/10\n"
     ]
    },
    {
     "name": "stderr",
     "output_type": "stream",
     "text": [
      "Epoch 7/60: 100%|██████████| 372/372 [03:56<00:00,  1.58it/s, accuracy=86.6, loss=0.306]"
     ]
    },
    {
     "name": "stdout",
     "output_type": "stream",
     "text": [
      "Epoch [7/60], Loss: 0.3063, Accuracy: 86.58%\n"
     ]
    },
    {
     "name": "stderr",
     "output_type": "stream",
     "text": [
      "\n"
     ]
    },
    {
     "name": "stdout",
     "output_type": "stream",
     "text": [
      "Epoch 7/60 - Train Loss: 0.3063, Train Acc: 86.58% | Val Loss: 0.5987, Val Acc: 75.73% | LR: 0.000175\n",
      "New best model saved as best_model_acc_75.7282.pth.\n"
     ]
    },
    {
     "name": "stderr",
     "output_type": "stream",
     "text": [
      "Epoch 8/60: 100%|██████████| 372/372 [03:52<00:00,  1.60it/s, accuracy=87.4, loss=0.29] "
     ]
    },
    {
     "name": "stdout",
     "output_type": "stream",
     "text": [
      "Epoch [8/60], Loss: 0.2904, Accuracy: 87.36%\n"
     ]
    },
    {
     "name": "stderr",
     "output_type": "stream",
     "text": [
      "\n"
     ]
    },
    {
     "name": "stdout",
     "output_type": "stream",
     "text": [
      "Epoch 8/60 - Train Loss: 0.2904, Train Acc: 87.36% | Val Loss: 0.5684, Val Acc: 78.64% | LR: 0.000200\n",
      "New best model saved as best_model_acc_78.6408.pth.\n"
     ]
    },
    {
     "name": "stderr",
     "output_type": "stream",
     "text": [
      "Epoch 9/60: 100%|██████████| 372/372 [03:55<00:00,  1.58it/s, accuracy=87.7, loss=0.289]"
     ]
    },
    {
     "name": "stdout",
     "output_type": "stream",
     "text": [
      "Epoch [9/60], Loss: 0.2888, Accuracy: 87.68%\n"
     ]
    },
    {
     "name": "stderr",
     "output_type": "stream",
     "text": [
      "\n"
     ]
    },
    {
     "name": "stdout",
     "output_type": "stream",
     "text": [
      "Epoch 9/60 - Train Loss: 0.2888, Train Acc: 87.68% | Val Loss: 0.9626, Val Acc: 65.05% | LR: 0.000225\n",
      "No improvement. Early stop counter: 1/10\n"
     ]
    },
    {
     "name": "stderr",
     "output_type": "stream",
     "text": [
      "Epoch 10/60: 100%|██████████| 372/372 [03:53<00:00,  1.60it/s, accuracy=87.6, loss=0.312]"
     ]
    },
    {
     "name": "stdout",
     "output_type": "stream",
     "text": [
      "Epoch [10/60], Loss: 0.3116, Accuracy: 87.56%\n"
     ]
    },
    {
     "name": "stderr",
     "output_type": "stream",
     "text": [
      "\n"
     ]
    },
    {
     "name": "stdout",
     "output_type": "stream",
     "text": [
      "Epoch 10/60 - Train Loss: 0.3116, Train Acc: 87.56% | Val Loss: 0.5758, Val Acc: 80.58% | LR: 0.000250\n",
      "New best model saved as best_model_acc_80.5825.pth.\n",
      "No improvement. Early stop counter: 2/10\n"
     ]
    },
    {
     "name": "stderr",
     "output_type": "stream",
     "text": [
      "Epoch 11/60: 100%|██████████| 372/372 [03:48<00:00,  1.62it/s, accuracy=87.5, loss=0.292]"
     ]
    },
    {
     "name": "stdout",
     "output_type": "stream",
     "text": [
      "Epoch [11/60], Loss: 0.2922, Accuracy: 87.48%\n"
     ]
    },
    {
     "name": "stderr",
     "output_type": "stream",
     "text": [
      "\n"
     ]
    },
    {
     "name": "stdout",
     "output_type": "stream",
     "text": [
      "Epoch 11/60 - Train Loss: 0.2922, Train Acc: 87.48% | Val Loss: 0.6435, Val Acc: 71.84% | LR: 0.000275\n",
      "No improvement. Early stop counter: 3/10\n"
     ]
    },
    {
     "name": "stderr",
     "output_type": "stream",
     "text": [
      "Epoch 12/60: 100%|██████████| 372/372 [03:48<00:00,  1.63it/s, accuracy=86.2, loss=0.324]"
     ]
    },
    {
     "name": "stdout",
     "output_type": "stream",
     "text": [
      "Epoch [12/60], Loss: 0.3238, Accuracy: 86.18%\n"
     ]
    },
    {
     "name": "stderr",
     "output_type": "stream",
     "text": [
      "\n"
     ]
    },
    {
     "name": "stdout",
     "output_type": "stream",
     "text": [
      "Epoch 12/60 - Train Loss: 0.3238, Train Acc: 86.18% | Val Loss: 0.6490, Val Acc: 73.79% | LR: 0.000300\n",
      "No improvement. Early stop counter: 4/10\n"
     ]
    },
    {
     "name": "stderr",
     "output_type": "stream",
     "text": [
      "Epoch 13/60: 100%|██████████| 372/372 [03:55<00:00,  1.58it/s, accuracy=87, loss=0.312]  "
     ]
    },
    {
     "name": "stdout",
     "output_type": "stream",
     "text": [
      "Epoch [13/60], Loss: 0.3123, Accuracy: 87.04%\n"
     ]
    },
    {
     "name": "stderr",
     "output_type": "stream",
     "text": [
      "\n"
     ]
    },
    {
     "name": "stdout",
     "output_type": "stream",
     "text": [
      "Epoch 13/60 - Train Loss: 0.3123, Train Acc: 87.04% | Val Loss: 0.6670, Val Acc: 63.11% | LR: 0.000300\n",
      "No improvement. Early stop counter: 5/10\n"
     ]
    },
    {
     "name": "stderr",
     "output_type": "stream",
     "text": [
      "Epoch 14/60: 100%|██████████| 372/372 [03:53<00:00,  1.60it/s, accuracy=87.9, loss=0.276]"
     ]
    },
    {
     "name": "stdout",
     "output_type": "stream",
     "text": [
      "Epoch [14/60], Loss: 0.2761, Accuracy: 87.88%\n"
     ]
    },
    {
     "name": "stderr",
     "output_type": "stream",
     "text": [
      "\n"
     ]
    },
    {
     "name": "stdout",
     "output_type": "stream",
     "text": [
      "Epoch 14/60 - Train Loss: 0.2761, Train Acc: 87.88% | Val Loss: 0.5828, Val Acc: 78.64% | LR: 0.000299\n",
      "No improvement. Early stop counter: 6/10\n"
     ]
    },
    {
     "name": "stderr",
     "output_type": "stream",
     "text": [
      "Epoch 15/60: 100%|██████████| 372/372 [03:51<00:00,  1.61it/s, accuracy=88, loss=0.293]  "
     ]
    },
    {
     "name": "stdout",
     "output_type": "stream",
     "text": [
      "Epoch [15/60], Loss: 0.2927, Accuracy: 87.96%\n"
     ]
    },
    {
     "name": "stderr",
     "output_type": "stream",
     "text": [
      "\n"
     ]
    },
    {
     "name": "stdout",
     "output_type": "stream",
     "text": [
      "Epoch 15/60 - Train Loss: 0.2927, Train Acc: 87.96% | Val Loss: 0.5643, Val Acc: 74.76% | LR: 0.000297\n"
     ]
    },
    {
     "name": "stderr",
     "output_type": "stream",
     "text": [
      "Epoch 16/60: 100%|██████████| 372/372 [03:41<00:00,  1.68it/s, accuracy=86.9, loss=0.295]"
     ]
    },
    {
     "name": "stdout",
     "output_type": "stream",
     "text": [
      "Epoch [16/60], Loss: 0.2954, Accuracy: 86.89%\n"
     ]
    },
    {
     "name": "stderr",
     "output_type": "stream",
     "text": [
      "\n"
     ]
    },
    {
     "name": "stdout",
     "output_type": "stream",
     "text": [
      "Epoch 16/60 - Train Loss: 0.2954, Train Acc: 86.89% | Val Loss: 0.6511, Val Acc: 74.76% | LR: 0.000295\n",
      "No improvement. Early stop counter: 1/10\n"
     ]
    },
    {
     "name": "stderr",
     "output_type": "stream",
     "text": [
      "Epoch 17/60: 100%|██████████| 372/372 [03:50<00:00,  1.61it/s, accuracy=88.8, loss=0.258]"
     ]
    },
    {
     "name": "stdout",
     "output_type": "stream",
     "text": [
      "Epoch [17/60], Loss: 0.2578, Accuracy: 88.84%\n"
     ]
    },
    {
     "name": "stderr",
     "output_type": "stream",
     "text": [
      "\n"
     ]
    },
    {
     "name": "stdout",
     "output_type": "stream",
     "text": [
      "Epoch 17/60 - Train Loss: 0.2578, Train Acc: 88.84% | Val Loss: 0.5859, Val Acc: 73.79% | LR: 0.000292\n",
      "No improvement. Early stop counter: 2/10\n"
     ]
    },
    {
     "name": "stderr",
     "output_type": "stream",
     "text": [
      "Epoch 18/60: 100%|██████████| 372/372 [03:52<00:00,  1.60it/s, accuracy=89.1, loss=0.266]"
     ]
    },
    {
     "name": "stdout",
     "output_type": "stream",
     "text": [
      "Epoch [18/60], Loss: 0.2663, Accuracy: 89.06%\n"
     ]
    },
    {
     "name": "stderr",
     "output_type": "stream",
     "text": [
      "\n"
     ]
    },
    {
     "name": "stdout",
     "output_type": "stream",
     "text": [
      "Epoch 18/60 - Train Loss: 0.2663, Train Acc: 89.06% | Val Loss: 0.6138, Val Acc: 77.67% | LR: 0.000289\n",
      "No improvement. Early stop counter: 3/10\n"
     ]
    },
    {
     "name": "stderr",
     "output_type": "stream",
     "text": [
      "Epoch 19/60: 100%|██████████| 372/372 [03:50<00:00,  1.61it/s, accuracy=88.8, loss=0.254]"
     ]
    },
    {
     "name": "stdout",
     "output_type": "stream",
     "text": [
      "Epoch [19/60], Loss: 0.2538, Accuracy: 88.84%\n"
     ]
    },
    {
     "name": "stderr",
     "output_type": "stream",
     "text": [
      "\n"
     ]
    },
    {
     "name": "stdout",
     "output_type": "stream",
     "text": [
      "Epoch 19/60 - Train Loss: 0.2538, Train Acc: 88.84% | Val Loss: 0.5986, Val Acc: 75.73% | LR: 0.000285\n",
      "No improvement. Early stop counter: 4/10\n"
     ]
    },
    {
     "name": "stderr",
     "output_type": "stream",
     "text": [
      "Epoch 20/60: 100%|██████████| 372/372 [03:51<00:00,  1.61it/s, accuracy=88.9, loss=0.262]"
     ]
    },
    {
     "name": "stdout",
     "output_type": "stream",
     "text": [
      "Epoch [20/60], Loss: 0.2618, Accuracy: 88.89%\n"
     ]
    },
    {
     "name": "stderr",
     "output_type": "stream",
     "text": [
      "\n"
     ]
    },
    {
     "name": "stdout",
     "output_type": "stream",
     "text": [
      "Epoch 20/60 - Train Loss: 0.2618, Train Acc: 88.89% | Val Loss: 0.5543, Val Acc: 76.70% | LR: 0.000280\n"
     ]
    },
    {
     "name": "stderr",
     "output_type": "stream",
     "text": [
      "Epoch 21/60: 100%|██████████| 372/372 [03:51<00:00,  1.61it/s, accuracy=89, loss=0.243]  "
     ]
    },
    {
     "name": "stdout",
     "output_type": "stream",
     "text": [
      "Epoch [21/60], Loss: 0.2435, Accuracy: 88.96%\n"
     ]
    },
    {
     "name": "stderr",
     "output_type": "stream",
     "text": [
      "\n"
     ]
    },
    {
     "name": "stdout",
     "output_type": "stream",
     "text": [
      "Epoch 21/60 - Train Loss: 0.2435, Train Acc: 88.96% | Val Loss: 0.5387, Val Acc: 83.50% | LR: 0.000275\n",
      "New best model saved as best_model_acc_83.4951.pth.\n"
     ]
    },
    {
     "name": "stderr",
     "output_type": "stream",
     "text": [
      "Epoch 22/60: 100%|██████████| 372/372 [03:51<00:00,  1.60it/s, accuracy=89.7, loss=0.235]"
     ]
    },
    {
     "name": "stdout",
     "output_type": "stream",
     "text": [
      "Epoch [22/60], Loss: 0.2354, Accuracy: 89.73%\n"
     ]
    },
    {
     "name": "stderr",
     "output_type": "stream",
     "text": [
      "\n"
     ]
    },
    {
     "name": "stdout",
     "output_type": "stream",
     "text": [
      "Epoch 22/60 - Train Loss: 0.2354, Train Acc: 89.73% | Val Loss: 0.5764, Val Acc: 76.70% | LR: 0.000269\n",
      "No improvement. Early stop counter: 1/10\n"
     ]
    },
    {
     "name": "stderr",
     "output_type": "stream",
     "text": [
      "Epoch 23/60: 100%|██████████| 372/372 [03:51<00:00,  1.61it/s, accuracy=88.8, loss=0.245]"
     ]
    },
    {
     "name": "stdout",
     "output_type": "stream",
     "text": [
      "Epoch [23/60], Loss: 0.2449, Accuracy: 88.76%\n"
     ]
    },
    {
     "name": "stderr",
     "output_type": "stream",
     "text": [
      "\n"
     ]
    },
    {
     "name": "stdout",
     "output_type": "stream",
     "text": [
      "Epoch 23/60 - Train Loss: 0.2449, Train Acc: 88.76% | Val Loss: 0.6051, Val Acc: 75.73% | LR: 0.000263\n",
      "No improvement. Early stop counter: 2/10\n"
     ]
    },
    {
     "name": "stderr",
     "output_type": "stream",
     "text": [
      "Epoch 24/60: 100%|██████████| 372/372 [03:51<00:00,  1.61it/s, accuracy=89.7, loss=0.229]"
     ]
    },
    {
     "name": "stdout",
     "output_type": "stream",
     "text": [
      "Epoch [24/60], Loss: 0.2291, Accuracy: 89.73%\n"
     ]
    },
    {
     "name": "stderr",
     "output_type": "stream",
     "text": [
      "\n"
     ]
    },
    {
     "name": "stdout",
     "output_type": "stream",
     "text": [
      "Epoch 24/60 - Train Loss: 0.2291, Train Acc: 89.73% | Val Loss: 0.5766, Val Acc: 78.64% | LR: 0.000256\n",
      "No improvement. Early stop counter: 3/10\n"
     ]
    },
    {
     "name": "stderr",
     "output_type": "stream",
     "text": [
      "Epoch 25/60: 100%|██████████| 372/372 [03:53<00:00,  1.60it/s, accuracy=90.6, loss=0.211]"
     ]
    },
    {
     "name": "stdout",
     "output_type": "stream",
     "text": [
      "Epoch [25/60], Loss: 0.2107, Accuracy: 90.62%\n"
     ]
    },
    {
     "name": "stderr",
     "output_type": "stream",
     "text": [
      "\n"
     ]
    },
    {
     "name": "stdout",
     "output_type": "stream",
     "text": [
      "Epoch 25/60 - Train Loss: 0.2107, Train Acc: 90.62% | Val Loss: 0.7547, Val Acc: 69.90% | LR: 0.000249\n",
      "No improvement. Early stop counter: 4/10\n"
     ]
    },
    {
     "name": "stderr",
     "output_type": "stream",
     "text": [
      "Epoch 26/60: 100%|██████████| 372/372 [03:53<00:00,  1.59it/s, accuracy=89.4, loss=0.229]"
     ]
    },
    {
     "name": "stdout",
     "output_type": "stream",
     "text": [
      "Epoch [26/60], Loss: 0.2294, Accuracy: 89.40%\n"
     ]
    },
    {
     "name": "stderr",
     "output_type": "stream",
     "text": [
      "\n"
     ]
    },
    {
     "name": "stdout",
     "output_type": "stream",
     "text": [
      "Epoch 26/60 - Train Loss: 0.2294, Train Acc: 89.40% | Val Loss: 0.5612, Val Acc: 76.70% | LR: 0.000241\n",
      "No improvement. Early stop counter: 5/10\n"
     ]
    },
    {
     "name": "stderr",
     "output_type": "stream",
     "text": [
      "Epoch 27/60: 100%|██████████| 372/372 [03:51<00:00,  1.61it/s, accuracy=90.5, loss=0.215]"
     ]
    },
    {
     "name": "stdout",
     "output_type": "stream",
     "text": [
      "Epoch [27/60], Loss: 0.2151, Accuracy: 90.49%\n"
     ]
    },
    {
     "name": "stderr",
     "output_type": "stream",
     "text": [
      "\n"
     ]
    },
    {
     "name": "stdout",
     "output_type": "stream",
     "text": [
      "Epoch 27/60 - Train Loss: 0.2151, Train Acc: 90.49% | Val Loss: 0.7612, Val Acc: 72.82% | LR: 0.000233\n",
      "No improvement. Early stop counter: 6/10\n"
     ]
    },
    {
     "name": "stderr",
     "output_type": "stream",
     "text": [
      "Epoch 28/60: 100%|██████████| 372/372 [03:53<00:00,  1.59it/s, accuracy=90.4, loss=0.206]"
     ]
    },
    {
     "name": "stdout",
     "output_type": "stream",
     "text": [
      "Epoch [28/60], Loss: 0.2057, Accuracy: 90.41%\n"
     ]
    },
    {
     "name": "stderr",
     "output_type": "stream",
     "text": [
      "\n"
     ]
    },
    {
     "name": "stdout",
     "output_type": "stream",
     "text": [
      "Epoch 28/60 - Train Loss: 0.2057, Train Acc: 90.41% | Val Loss: 0.5842, Val Acc: 75.73% | LR: 0.000225\n",
      "No improvement. Early stop counter: 7/10\n"
     ]
    },
    {
     "name": "stderr",
     "output_type": "stream",
     "text": [
      "Epoch 29/60: 100%|██████████| 372/372 [03:51<00:00,  1.61it/s, accuracy=90.2, loss=0.215]"
     ]
    },
    {
     "name": "stdout",
     "output_type": "stream",
     "text": [
      "Epoch [29/60], Loss: 0.2150, Accuracy: 90.20%\n"
     ]
    },
    {
     "name": "stderr",
     "output_type": "stream",
     "text": [
      "\n"
     ]
    },
    {
     "name": "stdout",
     "output_type": "stream",
     "text": [
      "Epoch 29/60 - Train Loss: 0.2150, Train Acc: 90.20% | Val Loss: 0.5663, Val Acc: 75.73% | LR: 0.000216\n",
      "No improvement. Early stop counter: 8/10\n"
     ]
    },
    {
     "name": "stderr",
     "output_type": "stream",
     "text": [
      "Epoch 30/60: 100%|██████████| 372/372 [03:51<00:00,  1.61it/s, accuracy=91.1, loss=0.197]"
     ]
    },
    {
     "name": "stdout",
     "output_type": "stream",
     "text": [
      "Epoch [30/60], Loss: 0.1966, Accuracy: 91.10%\n"
     ]
    },
    {
     "name": "stderr",
     "output_type": "stream",
     "text": [
      "\n"
     ]
    },
    {
     "name": "stdout",
     "output_type": "stream",
     "text": [
      "Epoch 30/60 - Train Loss: 0.1966, Train Acc: 91.10% | Val Loss: 0.7667, Val Acc: 66.02% | LR: 0.000207\n",
      "No improvement. Early stop counter: 9/10\n"
     ]
    },
    {
     "name": "stderr",
     "output_type": "stream",
     "text": [
      "Epoch 31/60: 100%|██████████| 372/372 [03:53<00:00,  1.59it/s, accuracy=92, loss=0.176]  "
     ]
    },
    {
     "name": "stdout",
     "output_type": "stream",
     "text": [
      "Epoch [31/60], Loss: 0.1760, Accuracy: 91.99%\n"
     ]
    },
    {
     "name": "stderr",
     "output_type": "stream",
     "text": [
      "\n"
     ]
    },
    {
     "name": "stdout",
     "output_type": "stream",
     "text": [
      "Epoch 31/60 - Train Loss: 0.1760, Train Acc: 91.99% | Val Loss: 0.5523, Val Acc: 79.61% | LR: 0.000198\n",
      "No improvement. Early stop counter: 10/10\n",
      "Early stopping triggered.\n"
     ]
    },
    {
     "data": {
      "image/png": "[encoded data removed]",
      "text/plain": [
       "<Figure size 1800x500 with 3 Axes>"
      ]
     },
     "metadata": {},
     "output_type": "display_data"
    },
    {
     "name": "stdout",
     "output_type": "stream",
     "text": [
      "\n",
      "Validation Results — Loss: 0.9656, Accuracy: 65.97%\n",
      "Classification Report:\n",
      "              precision    recall  f1-score   support\n",
      "\n",
      "           0       0.69      0.88      0.78       122\n",
      "           1       0.47      0.40      0.43        82\n",
      "           2       1.00      0.03      0.06        30\n",
      "           3       0.78      0.91      0.84        54\n",
      "\n",
      "    accuracy                           0.66       288\n",
      "   macro avg       0.74      0.56      0.53       288\n",
      "weighted avg       0.68      0.66      0.62       288\n",
      "\n",
      "Confusion Matrix:\n",
      "[[107  12   0   3]\n",
      " [ 38  33   0  11]\n",
      " [  4  25   1   0]\n",
      " [  5   0   0  49]]\n"
     ]
    }
   ],
   "source": [
    "results = []\n",
    "for model_name, config in model_configs:\n",
    "    model = ClassificationModel(\n",
    "        model_name = config['model_name'],\n",
    "        pretrained = config['pretrained'],\n",
    "        use_class_weights = config['use_class_weights'],\n",
    "        drop_path_rate = config['droprate'],\n",
    "        train_df = train_df,\n",
    "        train_loader = train_loader,\n",
    "        val_loader = val_loader,\n",
    "        test_loader = test_loader,\n",
    "        device = device,\n",
    "        freeze_level = config['freez']\n",
    "    )\n",
    "    best_model_path = model.train(\n",
    "            num_epochs=config['num_epochs'],\n",
    "            lr=config['lr'],\n",
    "            weight_decay=config['weight_decay'],\n",
    "            patience=config['patience'],\n",
    "            warmup=config['warmup']\n",
    "        )\n",
    "    if best_model_path is None:\n",
    "        print(f\"Warning: No model was saved for {model_name}\")\n",
    "        continue  \n",
    "    cpu = torch.device(\"cpu\")\n",
    "    model.model.to(cpu)\n",
    "    torch.cuda.empty_cache()\n",
    "\n",
    "\n"
   ]
  }
 ],
 "metadata": {
  "kernelspec": {
   "display_name": ".venv",
   "language": "python",
   "name": "python3"
  },
  "language_info": {
   "codemirror_mode": {
    "name": "ipython",
    "version": 3
   },
   "file_extension": ".py",
   "mimetype": "text/x-python",
   "name": "python",
   "nbconvert_exporter": "python",
   "pygments_lexer": "ipython3",
   "version": "3.12.3"
  }
 },
 "nbformat": 4,
 "nbformat_minor": 5
}
